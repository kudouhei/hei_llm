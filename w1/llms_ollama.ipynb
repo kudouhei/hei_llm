{
 "cells": [
  {
   "cell_type": "code",
   "execution_count": 6,
   "id": "9454ca0c-2906-4778-85fe-53f57e1c138d",
   "metadata": {},
   "outputs": [],
   "source": [
    "# imports\n",
    "\n",
    "import requests\n",
    "from bs4 import BeautifulSoup\n",
    "from IPython.display import Markdown, display\n",
    "import ollama"
   ]
  },
  {
   "cell_type": "code",
   "execution_count": 7,
   "id": "b337fdf0-a015-4f4f-b37f-7d1af308164b",
   "metadata": {},
   "outputs": [],
   "source": [
    "# Constants\n",
    "\n",
    "MODEL = \"llama3.2\""
   ]
  },
  {
   "cell_type": "code",
   "execution_count": 8,
   "id": "7df8c8c7-6e3e-431c-a321-564a0c0e5f6c",
   "metadata": {},
   "outputs": [],
   "source": [
    "# Define our system prompt\n",
    "\n",
    "message = \"\"\"\n",
    "As an AI web developer agent capable of identifying debugging issues based on the provided code information.\n",
    "Focus on analyzing the source code regarding its vulnerability, specifically web UI flaky failures, which refer to code that causes errors to occur non-deterministically. Note the interactions of DOM events sequences and responses to pinpoint the suspicious DOM-event pairs or flakiness-inducing locations to cause the flakiness.\n",
    "\n",
    "Task:\n",
    "Using the information above, understand the intent behind DOM event sequences and identify recurring patterns in DOM event chains.\n",
    "Run 5 times and then choose the optimal list based on the results.\n",
    "Provide the TOP 10 potential suspicious list of DOM event pairs (consider the possible relations between DOM events, and responses within two adjacent statements), with flakiness scores (1-10) and their line numbers, trigger events and detailed explanations.\n",
    "The output list is in JSON format (item: string, flakiness_score: number, line_number: array, trigger_events: array, explanation: string), descending ordered by flakiness scores. In item attribute should include specific elements or events\n",
    "There is no need to provide Recommendations to Mitigate Flakiness.\n",
    "\n",
    "Here is the Code:\n",
    "\n",
    "\n",
    "\"\"\""
   ]
  },
  {
   "cell_type": "code",
   "execution_count": null,
   "id": "16d504d2-a81b-4554-9520-a1b080ab3b3a",
   "metadata": {},
   "outputs": [],
   "source": [
    "# model \n",
    "response = ollama.chat(model=MODEL, messages=[{\"role\": \"user\", \"content\": message}])\n",
    "\n",
    "# response['message']['content']\n",
    "\n",
    "print(response['message']['content'])"
   ]
  },
  {
   "cell_type": "code",
   "execution_count": null,
   "id": "66935a66-c09c-4dfd-9f27-68ecdc960fa0",
   "metadata": {},
   "outputs": [],
   "source": []
  }
 ],
 "metadata": {
  "kernelspec": {
   "display_name": "Python 3 (ipykernel)",
   "language": "python",
   "name": "python3"
  },
  "language_info": {
   "codemirror_mode": {
    "name": "ipython",
    "version": 3
   },
   "file_extension": ".py",
   "mimetype": "text/x-python",
   "name": "python",
   "nbconvert_exporter": "python",
   "pygments_lexer": "ipython3",
   "version": "3.11.11"
  }
 },
 "nbformat": 4,
 "nbformat_minor": 5
}
