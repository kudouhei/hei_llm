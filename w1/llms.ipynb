{
 "cells": [
  {
   "cell_type": "code",
   "execution_count": 223,
   "id": "5b1ef32b-6865-4e8d-9196-869c0395c175",
   "metadata": {},
   "outputs": [],
   "source": [
    "# imports\n",
    "\n",
    "import os\n",
    "import requests\n",
    "from dotenv import load_dotenv\n",
    "from bs4 import BeautifulSoup\n",
    "from IPython.display import Markdown, display\n",
    "from openai import OpenAI\n",
    "\n",
    "# If you get an error running this cell, then please head over to the troubleshooting notebook!"
   ]
  },
  {
   "cell_type": "code",
   "execution_count": 224,
   "id": "570509ab-9199-42dc-8241-2b6c83e2cd9c",
   "metadata": {},
   "outputs": [
    {
     "name": "stdout",
     "output_type": "stream",
     "text": [
      "API key found and looks good so far!\n"
     ]
    }
   ],
   "source": [
    "# Load environment variables in a file called .env\n",
    "\n",
    "load_dotenv(override=True)\n",
    "api_key = os.getenv('OPENAI_API_KEY')\n",
    "\n",
    "# Check the key\n",
    "\n",
    "if not api_key:\n",
    "    print(\"No API key was found - please head over to the troubleshooting notebook in this folder to identify & fix!\")\n",
    "elif not api_key.startswith(\"sk-proj-\"):\n",
    "    print(\"An API key was found, but it doesn't start sk-proj-; please check you're using the right key - see troubleshooting notebook\")\n",
    "elif api_key.strip() != api_key:\n",
    "    print(\"An API key was found, but it looks like it might have space or tab characters at the start or end - please remove them - see troubleshooting notebook\")\n",
    "else:\n",
    "    print(\"API key found and looks good so far!\")\n",
    "\n",
    "openai = OpenAI()"
   ]
  },
  {
   "cell_type": "code",
   "execution_count": null,
   "id": "cf2169d5-5b8d-4566-b5ff-5978c928f462",
   "metadata": {},
   "outputs": [],
   "source": [
    "#01\n",
    "\n",
    "message = \"\"\"\n",
    "As an AI web developer agent capable of identifying debugging issues based on the provided code information.\n",
    "Focus on analyzing the source code regarding its vulnerability, specifically web UI flaky failures, which refer to code that causes errors to occur non-deterministically. Note the interactions of DOM events sequences and responses to pinpoint the suspicious DOM-event pairs or flakiness-inducing locations to cause the flakiness.\n",
    "\n",
    "Task:\n",
    "Using the information above, understand the intent behind DOM event sequences and identify recurring patterns in DOM event chains.\n",
    "Run 5 times and then choose the optimal list based on the results.\n",
    "Provide the TOP 10 potential suspicious list of DOM event pairs (consider the possible relations between DOM events, and responses within two adjacent statements), with flakiness scores (1-10) and their line numbers, trigger events and detailed explanations.\n",
    "The output list is written in JSON format (item: string, flakiness_score: number, line_number: array, trigger_events: array, explanation: string), descending ordered by flakiness scores. In item attribute should include specific elements or events\n",
    "There is no need to provide Recommendations to Mitigate Flakiness.\n",
    "\n",
    "Here is the Code:\n",
    "\n",
    "\n",
    "\"\"\"\n",
    "\n",
    "# model = o1-preview\n",
    "response = openai.chat.completions.create(model=\"chatgpt-4o-latest\", messages=[{\"role\": \"user\", \"content\": message}])\n",
    "\n",
    "print(response.choices[0].message.content)"
   ]
  }
 ],
 "metadata": {
  "kernelspec": {
   "display_name": "Python 3 (ipykernel)",
   "language": "python",
   "name": "python3"
  },
  "language_info": {
   "codemirror_mode": {
    "name": "ipython",
    "version": 3
   },
   "file_extension": ".py",
   "mimetype": "text/x-python",
   "name": "python",
   "nbconvert_exporter": "python",
   "pygments_lexer": "ipython3",
   "version": "3.11.11"
  }
 },
 "nbformat": 4,
 "nbformat_minor": 5
}
